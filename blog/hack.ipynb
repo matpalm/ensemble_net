{
 "cells": [
  {
   "cell_type": "code",
   "execution_count": 6,
   "metadata": {},
   "outputs": [],
   "source": [
    "import models\n",
    "import numpy as np\n",
    "import jax.numpy as jnp\n",
    "import objax\n",
    "import jax\n",
    "\n",
    "def pp(a):\n",
    "    print(a.shape)\n",
    "    print(jnp.around(a, 3))"
   ]
  },
  {
   "cell_type": "code",
   "execution_count": 13,
   "metadata": {},
   "outputs": [
    {
     "data": {
      "text/plain": [
       "DeviceArray([[1, 2, 0, 2],\n",
       "             [3, 4, 0, 1],\n",
       "             [0, 2, 2, 0]], dtype=int32)"
      ]
     },
     "execution_count": 13,
     "metadata": {},
     "output_type": "execute_result"
    }
   ],
   "source": [
    "M = 3\n",
    "B = 4\n",
    "C = 5\n",
    "\n",
    "imgs = jnp.array(np.random.uniform(0, 1, (M, B, 64, 64, 3)))\n",
    "labels = jnp.array(np.random.randint(0, C, (M, B,)))\n",
    "\n",
    "labels"
   ]
  },
  {
   "cell_type": "code",
   "execution_count": 18,
   "metadata": {},
   "outputs": [],
   "source": [
    "net = models.EnsembleNet(num_models=M, num_classes=C)"
   ]
  },
  {
   "cell_type": "code",
   "execution_count": 19,
   "metadata": {},
   "outputs": [
    {
     "name": "stdout",
     "output_type": "stream",
     "text": [
      "(3, 4, 5)\n",
      "[[[ 0.004 -0.001 -0.003  0.    -0.005]\n",
      "  [ 0.003 -0.003 -0.004  0.002 -0.006]\n",
      "  [ 0.003 -0.004 -0.004  0.    -0.007]\n",
      "  [ 0.004 -0.002 -0.002  0.002 -0.007]]\n",
      "\n",
      " [[ 0.    -0.005  0.005 -0.005 -0.003]\n",
      "  [-0.003 -0.01   0.002 -0.006 -0.003]\n",
      "  [-0.002 -0.007  0.003 -0.006 -0.002]\n",
      "  [-0.003 -0.009  0.003 -0.005 -0.001]]\n",
      "\n",
      " [[-0.001 -0.003 -0.012 -0.001 -0.002]\n",
      "  [-0.001 -0.002 -0.014 -0.001 -0.002]\n",
      "  [ 0.    -0.002 -0.013  0.001 -0.004]\n",
      "  [-0.001 -0.004 -0.015 -0.001 -0.001]]]\n"
     ]
    }
   ],
   "source": [
    "logits = net.logits(imgs, single_result=False, logits_dropout=False)\n",
    "pp(logits)"
   ]
  },
  {
   "cell_type": "code",
   "execution_count": 20,
   "metadata": {},
   "outputs": [
    {
     "name": "stdout",
     "output_type": "stream",
     "text": [
      "(4, 5)\n",
      "[[ 0.003 -0.009 -0.01  -0.006 -0.01 ]\n",
      " [-0.001 -0.015 -0.016 -0.005 -0.01 ]\n",
      " [ 0.001 -0.013 -0.014 -0.004 -0.014]\n",
      " [ 0.001 -0.015 -0.014 -0.003 -0.009]]\n"
     ]
    }
   ],
   "source": [
    "ensembled_logits = jnp.sum(logits, axis=0)\n",
    "pp(ensembled_logits)"
   ]
  },
  {
   "cell_type": "code",
   "execution_count": 21,
   "metadata": {},
   "outputs": [
    {
     "name": "stdout",
     "output_type": "stream",
     "text": [
      "(3, 4, 5)\n",
      "[[[ 0.003 -0.009 -0.01  -0.006 -0.01 ]\n",
      "  [-0.001 -0.015 -0.016 -0.005 -0.01 ]\n",
      "  [ 0.001 -0.013 -0.014 -0.004 -0.014]\n",
      "  [ 0.001 -0.015 -0.014 -0.003 -0.009]]\n",
      "\n",
      " [[ 0.003 -0.009 -0.01  -0.006 -0.01 ]\n",
      "  [-0.001 -0.015 -0.016 -0.005 -0.01 ]\n",
      "  [ 0.001 -0.013 -0.014 -0.004 -0.014]\n",
      "  [ 0.001 -0.015 -0.014 -0.003 -0.009]]\n",
      "\n",
      " [[ 0.003 -0.009 -0.01  -0.006 -0.01 ]\n",
      "  [-0.001 -0.015 -0.016 -0.005 -0.01 ]\n",
      "  [ 0.001 -0.013 -0.014 -0.004 -0.014]\n",
      "  [ 0.001 -0.015 -0.014 -0.003 -0.009]]]\n"
     ]
    }
   ],
   "source": [
    "tiled_ensemble_logits = jnp.tile(ensembled_logits, (M, 1, 1))\n",
    "pp(tiled_ensemble_logits)"
   ]
  },
  {
   "cell_type": "code",
   "execution_count": 22,
   "metadata": {},
   "outputs": [
    {
     "name": "stdout",
     "output_type": "stream",
     "text": [
      "(3, 4, 5)\n",
      "[[[-0.001 -0.008 -0.007 -0.006 -0.005]\n",
      "  [-0.004 -0.012 -0.012 -0.007 -0.004]\n",
      "  [-0.002 -0.009 -0.01  -0.004 -0.007]\n",
      "  [-0.003 -0.013 -0.012 -0.006 -0.002]]\n",
      "\n",
      " [[ 0.004 -0.004 -0.015 -0.001 -0.007]\n",
      "  [ 0.002 -0.005 -0.018  0.001 -0.008]\n",
      "  [ 0.003 -0.006 -0.017  0.002 -0.011]\n",
      "  [ 0.003 -0.006 -0.017  0.001 -0.008]]\n",
      "\n",
      " [[ 0.004 -0.006  0.002 -0.005 -0.008]\n",
      "  [ 0.    -0.013 -0.001 -0.004 -0.009]\n",
      "  [ 0.001 -0.011 -0.001 -0.005 -0.009]\n",
      "  [ 0.001 -0.011  0.001 -0.002 -0.008]]]\n"
     ]
    }
   ],
   "source": [
    "held_one_out_logits = tiled_ensemble_logits - logits\n",
    "pp(held_one_out_logits)"
   ]
  },
  {
   "cell_type": "code",
   "execution_count": 23,
   "metadata": {},
   "outputs": [
    {
     "data": {
      "text/plain": [
       "DeviceArray([[0, 0, 0, 4],\n",
       "             [0, 0, 0, 0],\n",
       "             [0, 0, 0, 0]], dtype=int32)"
      ]
     },
     "execution_count": 23,
     "metadata": {},
     "output_type": "execute_result"
    }
   ],
   "source": [
    "jnp.argmax(held_one_out_logits, axis=-1)"
   ]
  },
  {
   "cell_type": "code",
   "execution_count": 24,
   "metadata": {},
   "outputs": [
    {
     "name": "stdout",
     "output_type": "stream",
     "text": [
      "[[0 0 0 4]\n",
      " [0 0 0 0]\n",
      " [0 0 0 0]]\n"
     ]
    }
   ],
   "source": [
    "logits = net.logits(imgs, single_result=False, logits_dropout=False)\n",
    "ensembled_logits = jnp.sum(logits, axis=0)\n",
    "tiled_ensemble_logits = jnp.tile(ensembled_logits, (M, 1, 1))\n",
    "held_one_out_logits = tiled_ensemble_logits - logits\n",
    "predictions = jnp.argmax(held_one_out_logits, axis=-1)\n",
    "print(predictions)"
   ]
  },
  {
   "cell_type": "code",
   "execution_count": null,
   "metadata": {},
   "outputs": [],
   "source": []
  }
 ],
 "metadata": {
  "kernelspec": {
   "display_name": "Python 3",
   "language": "python",
   "name": "python3"
  },
  "language_info": {
   "codemirror_mode": {
    "name": "ipython",
    "version": 3
   },
   "file_extension": ".py",
   "mimetype": "text/x-python",
   "name": "python",
   "nbconvert_exporter": "python",
   "pygments_lexer": "ipython3",
   "version": "3.6.9"
  }
 },
 "nbformat": 4,
 "nbformat_minor": 2
}
