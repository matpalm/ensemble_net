{
 "cells": [
  {
   "cell_type": "code",
   "execution_count": 1,
   "metadata": {},
   "outputs": [],
   "source": [
    "import models\n",
    "import numpy as np\n",
    "import jax.numpy as jnp\n",
    "import objax"
   ]
  },
  {
   "cell_type": "markdown",
   "metadata": {},
   "source": [
    "## non ensemble net\n",
    "create a non ensemble net and train it"
   ]
  },
  {
   "cell_type": "markdown",
   "metadata": {},
   "source": [
    "## create ensemble net"
   ]
  },
  {
   "cell_type": "code",
   "execution_count": 2,
   "metadata": {},
   "outputs": [
    {
     "data": {
      "text/plain": [
       "DeviceArray([[0, 0, 6, 0],\n",
       "             [6, 3, 0, 9]], dtype=int32)"
      ]
     },
     "execution_count": 2,
     "metadata": {},
     "output_type": "execute_result"
    }
   ],
   "source": [
    "M = 2\n",
    "B = 4\n",
    "num_classes = 10\n",
    "\n",
    "imgs = jnp.array(np.random.uniform(0, 1, (M, B, 64, 64, 3)))\n",
    "labels = jnp.array(np.random.randint(0, num_classes, (M, B,)))\n",
    "\n",
    "labels"
   ]
  },
  {
   "cell_type": "code",
   "execution_count": 3,
   "metadata": {},
   "outputs": [],
   "source": [
    "net = models.EnsembleNet(num_models=M, num_classes=num_classes)"
   ]
  },
  {
   "cell_type": "code",
   "execution_count": 4,
   "metadata": {},
   "outputs": [
    {
     "name": "stdout",
     "output_type": "stream",
     "text": [
      "[[[-0.00060502 -0.02492469  0.01806218  0.0351722   0.00936958\n",
      "    0.03283712  0.02363573  0.0255007   0.00064794 -0.0013887 ]\n",
      "  [-0.00107526 -0.02720002  0.02295999  0.02994362  0.00158176\n",
      "    0.02029154  0.01993767  0.02784456  0.00132418  0.003337  ]\n",
      "  [ 0.00396852 -0.02832424  0.02437153  0.03219391 -0.00064286\n",
      "    0.01604812  0.02979654  0.03123377  0.00260794  0.00651032]\n",
      "  [-0.00140848 -0.02888088  0.02452599  0.02666255  0.00024076\n",
      "    0.02799064  0.02278895  0.03351299  0.00549321  0.00242322]]\n",
      "\n",
      " [[ 0.029436    0.00570479  0.0025988  -0.03024629 -0.01737218\n",
      "    0.00398215 -0.04979104  0.03857547 -0.0251733   0.00706351]\n",
      "  [ 0.03239074  0.00062699  0.00475765 -0.0314671  -0.01216873\n",
      "    0.0089255  -0.03798135  0.03374011 -0.03052855 -0.00420806]\n",
      "  [ 0.03099996 -0.00027723  0.00685071 -0.02714815 -0.01296634\n",
      "    0.00968622 -0.0363331   0.03101299 -0.03117795 -0.00611702]\n",
      "  [ 0.02973027  0.00409792  0.00167987 -0.02920377 -0.01169661\n",
      "    0.01441652 -0.04370023  0.03600362 -0.02576954 -0.00058124]]]\n",
      "[[[0.1 0.1 0.1 0.1 0.1 0.1 0.1 0.1 0.1 0.1]\n",
      "  [0.1 0.1 0.1 0.1 0.1 0.1 0.1 0.1 0.1 0.1]\n",
      "  [0.1 0.1 0.1 0.1 0.1 0.1 0.1 0.1 0.1 0.1]\n",
      "  [0.1 0.1 0.1 0.1 0.1 0.1 0.1 0.1 0.1 0.1]]\n",
      "\n",
      " [[0.1 0.1 0.1 0.1 0.1 0.1 0.1 0.1 0.1 0.1]\n",
      "  [0.1 0.1 0.1 0.1 0.1 0.1 0.1 0.1 0.1 0.1]\n",
      "  [0.1 0.1 0.1 0.1 0.1 0.1 0.1 0.1 0.1 0.1]\n",
      "  [0.1 0.1 0.1 0.1 0.1 0.1 0.1 0.1 0.1 0.1]]]\n",
      "[[3 3 3 7]\n",
      " [7 7 7 7]]\n"
     ]
    }
   ],
   "source": [
    "# predictions etc before training\n",
    "net.single_result = False\n",
    "print(net.logits(imgs))\n",
    "print(np.around(net.predict_proba(imgs), 2))\n",
    "print(net.predict(imgs))"
   ]
  },
  {
   "cell_type": "markdown",
   "metadata": {},
   "source": [
    "run training"
   ]
  },
  {
   "cell_type": "code",
   "execution_count": 5,
   "metadata": {},
   "outputs": [],
   "source": [
    "from objax.functional.loss import cross_entropy_logits_sparse\n",
    "\n",
    "# setup loss fn and optimiser\n",
    "def cross_entropy(imgs, labels):   \n",
    "    net.single_result = False\n",
    "    logits = net.logits(imgs).reshape((M*B, num_classes))\n",
    "    labels = labels.reshape((M*B,))\n",
    "    return jnp.mean(cross_entropy_logits_sparse(logits, labels))\n",
    "\n",
    "gradient_loss = objax.GradValues(cross_entropy, net.vars())\n",
    "optimiser = objax.optimizer.Adam(net.vars())\n",
    "\n",
    "# create jitted training step\n",
    "learning_rate = 1e-3\n",
    "def train_step(imgs, labels):\n",
    "    grads, loss = gradient_loss(imgs, labels)\n",
    "    optimiser(learning_rate, grads)\n",
    "    return loss\n",
    "train_step = objax.Jit(train_step,\n",
    "                       gradient_loss.vars() + optimiser.vars())"
   ]
  },
  {
   "cell_type": "code",
   "execution_count": 6,
   "metadata": {},
   "outputs": [
    {
     "name": "stdout",
     "output_type": "stream",
     "text": [
      "0 [DeviceArray(2.309785, dtype=float32)]\n",
      "1 [DeviceArray(2.286853, dtype=float32)]\n",
      "2 [DeviceArray(2.2610347, dtype=float32)]\n",
      "3 [DeviceArray(2.2312253, dtype=float32)]\n",
      "4 [DeviceArray(2.1942642, dtype=float32)]\n",
      "5 [DeviceArray(2.1467886, dtype=float32)]\n",
      "6 [DeviceArray(2.0853095, dtype=float32)]\n",
      "7 [DeviceArray(2.0025678, dtype=float32)]\n",
      "8 [DeviceArray(1.8818042, dtype=float32)]\n",
      "9 [DeviceArray(1.7152119, dtype=float32)]\n",
      "10 [DeviceArray(1.5230902, dtype=float32)]\n",
      "11 [DeviceArray(1.3439355, dtype=float32)]\n",
      "12 [DeviceArray(1.2068758, dtype=float32)]\n",
      "13 [DeviceArray(1.1142126, dtype=float32)]\n",
      "14 [DeviceArray(1.0544429, dtype=float32)]\n",
      "15 [DeviceArray(1.023199, dtype=float32)]\n",
      "16 [DeviceArray(0.9841548, dtype=float32)]\n",
      "17 [DeviceArray(0.9533998, dtype=float32)]\n",
      "18 [DeviceArray(0.93385005, dtype=float32)]\n",
      "19 [DeviceArray(0.9242128, dtype=float32)]\n"
     ]
    }
   ],
   "source": [
    "for i in range(20):    \n",
    "    print(i, train_step(imgs, labels))"
   ]
  },
  {
   "cell_type": "code",
   "execution_count": 9,
   "metadata": {},
   "outputs": [
    {
     "name": "stdout",
     "output_type": "stream",
     "text": [
      "labels\n",
      "[[0 0 6 0]\n",
      " [6 3 0 9]]\n",
      "[[[19.159555   -0.86604476 -0.75640136  0.5455518  -6.518797\n",
      "    8.060124   18.033514    2.9550166   4.7997613  -7.1923504 ]\n",
      "  [19.040037   -0.86604476 -0.7461923   0.5716469  -6.459628\n",
      "    7.9231243  17.953642    2.9516416   4.798876   -7.168936  ]\n",
      "  [18.957855   -0.91597223 -0.75199693  0.5271764  -6.4322305\n",
      "    7.925053   18.044647    3.1206622   4.7976646  -7.234948  ]\n",
      "  [19.241756   -0.8600795  -0.75236124  0.55760574 -6.551737\n",
      "    8.029525   18.101171    2.9622502   4.848707   -7.201585  ]]\n",
      "\n",
      " [[ 2.784457   -0.47082624 -3.8567884   2.8172765  -2.7583883\n",
      "   -1.6924964   3.5291965  -3.9809694  -2.883482    3.234063  ]\n",
      "  [ 2.869034   -0.3944275  -3.7418451   2.962      -2.695875\n",
      "   -1.7287304   3.2085233  -3.8212414  -2.8644915   3.241995  ]\n",
      "  [ 2.9364972  -0.44032833 -3.6626866   2.7597113  -2.5655537\n",
      "   -1.8206162   2.984578   -3.7365205  -2.755283    3.205778  ]\n",
      "  [ 2.8760614  -0.33751926 -3.9145925   2.7517211  -2.7939067\n",
      "   -1.8161858   3.0897684  -3.7884328  -2.897355    3.3821614 ]]]\n",
      "[[[0.76 0.   0.   0.   0.   0.   0.24 0.   0.   0.  ]\n",
      "  [0.75 0.   0.   0.   0.   0.   0.25 0.   0.   0.  ]\n",
      "  [0.71 0.   0.   0.   0.   0.   0.29 0.   0.   0.  ]\n",
      "  [0.76 0.   0.   0.   0.   0.   0.24 0.   0.   0.  ]]\n",
      "\n",
      " [[0.17 0.01 0.   0.18 0.   0.   0.37 0.   0.   0.27]\n",
      "  [0.2  0.01 0.   0.22 0.   0.   0.28 0.   0.   0.29]\n",
      "  [0.24 0.01 0.   0.2  0.   0.   0.25 0.   0.   0.31]\n",
      "  [0.21 0.01 0.   0.18 0.   0.   0.26 0.   0.   0.34]]]\n",
      "predictions\n",
      "[[0 0 0 0]\n",
      " [6 9 9 9]]\n"
     ]
    }
   ],
   "source": [
    "# predictions etc after training\n",
    "# single result mode\n",
    "net.single_result = False\n",
    "\n",
    "print(\"labels\")\n",
    "print(labels)\n",
    "\n",
    "print(net.logits(imgs))\n",
    "print(np.around(net.predict_proba(imgs), 2))\n",
    "\n",
    "print(\"predictions\")\n",
    "print(net.predict(imgs))"
   ]
  },
  {
   "cell_type": "code",
   "execution_count": null,
   "metadata": {},
   "outputs": [],
   "source": [
    "# predictions etc after training\n",
    "# one result per model\n",
    "net.single_result = False\n",
    "\n",
    "print(net.logits(imgs))\n",
    "print(np.around(net.predict_proba(imgs), 2))\n",
    "print(net.predict(imgs))"
   ]
  },
  {
   "cell_type": "code",
   "execution_count": null,
   "metadata": {},
   "outputs": [],
   "source": []
  }
 ],
 "metadata": {
  "kernelspec": {
   "display_name": "Python 3",
   "language": "python",
   "name": "python3"
  },
  "language_info": {
   "codemirror_mode": {
    "name": "ipython",
    "version": 3
   },
   "file_extension": ".py",
   "mimetype": "text/x-python",
   "name": "python",
   "nbconvert_exporter": "python",
   "pygments_lexer": "ipython3",
   "version": "3.6.9"
  }
 },
 "nbformat": 4,
 "nbformat_minor": 2
}
