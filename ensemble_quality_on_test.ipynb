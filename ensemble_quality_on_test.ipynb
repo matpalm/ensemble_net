{
 "cells": [
  {
   "cell_type": "code",
   "execution_count": 2,
   "metadata": {},
   "outputs": [],
   "source": [
    "import models\n",
    "import numpy as np\n",
    "import jax.numpy as jnp\n",
    "import objax\n",
    "import jax\n",
    "import data\n",
    "import util\n",
    "from sklearn.metrics import confusion_matrix"
   ]
  },
  {
   "cell_type": "markdown",
   "metadata": {},
   "source": [
    "## run test data and check logits for a sample"
   ]
  },
  {
   "cell_type": "code",
   "execution_count": 2,
   "metadata": {},
   "outputs": [],
   "source": [
    "# best simo model\n",
    "\n",
    "net = models.EnsembleNet(num_models=4,\n",
    "                         num_classes=10,\n",
    "                         dense_kernel_size=51,\n",
    "                         seed=0)\n",
    "objax.io.load_var_collection('saved_models/simo_12/20200909_031227/final.npz', net.vars())"
   ]
  },
  {
   "cell_type": "code",
   "execution_count": 3,
   "metadata": {},
   "outputs": [],
   "source": [
    "# best mimo model\n",
    "\n",
    "net = models.EnsembleNet(num_models=2,\n",
    "                         num_classes=10,\n",
    "                         dense_kernel_size=57,\n",
    "                         seed=0)\n",
    "objax.io.load_var_collection('saved_models/mimo_01/20200909_160639/final.npz', net.vars())"
   ]
  },
  {
   "cell_type": "code",
   "execution_count": 4,
   "metadata": {},
   "outputs": [
    {
     "data": {
      "text/plain": [
       "((2700, 64, 64, 3), (2700,))"
      ]
     },
     "execution_count": 4,
     "metadata": {},
     "output_type": "execute_result"
    }
   ],
   "source": [
    "imgs, labels = data.test_dataset()\n",
    "imgs.shape, labels.shape"
   ]
  },
  {
   "cell_type": "code",
   "execution_count": 5,
   "metadata": {},
   "outputs": [],
   "source": [
    "S = 500\n",
    "\n",
    "sample_imgs = imgs #[:S]\n",
    "sample_labels = labels #[:S]"
   ]
  },
  {
   "cell_type": "code",
   "execution_count": 6,
   "metadata": {},
   "outputs": [
    {
     "data": {
      "text/plain": [
       "(2, 2700, 10)"
      ]
     },
     "execution_count": 6,
     "metadata": {},
     "output_type": "execute_result"
    }
   ],
   "source": [
    "logits = net.logits(sample_imgs, single_result=False)\n",
    "logits.shape"
   ]
  },
  {
   "cell_type": "markdown",
   "metadata": {},
   "source": [
    "overall ensemble predictions and accuracy"
   ]
  },
  {
   "cell_type": "code",
   "execution_count": 7,
   "metadata": {},
   "outputs": [],
   "source": [
    "ensemble_predictions = jnp.argmax(logits.sum(axis=0), axis=-1)\n",
    "#ensemble_predictions"
   ]
  },
  {
   "cell_type": "code",
   "execution_count": 8,
   "metadata": {},
   "outputs": [],
   "source": [
    "#sample_labels"
   ]
  },
  {
   "cell_type": "code",
   "execution_count": 9,
   "metadata": {},
   "outputs": [
    {
     "data": {
      "text/plain": [
       "0.9081481481481481"
      ]
     },
     "execution_count": 9,
     "metadata": {},
     "output_type": "execute_result"
    }
   ],
   "source": [
    "util.accuracy(ensemble_predictions, sample_labels)"
   ]
  },
  {
   "cell_type": "code",
   "execution_count": 10,
   "metadata": {},
   "outputs": [
    {
     "data": {
      "text/plain": [
       "array([[289,   2,   1,   2,   0,   2,   7,   0,   4,   0],\n",
       "       [  1, 290,   3,   0,   0,   4,   0,   0,   1,   1],\n",
       "       [  4,   6, 232,   4,   2,   6,  39,   1,   2,   0],\n",
       "       [  3,   0,   2, 193,  11,   0,   7,   4,   1,   0],\n",
       "       [  0,   0,   2,   2, 250,   0,   2,   6,   0,   0],\n",
       "       [  5,   9,   8,   0,   0, 191,   2,   0,   0,   1],\n",
       "       [  4,   0,  15,   1,   1,   5, 222,   2,   1,   0],\n",
       "       [  0,   0,   6,   3,   7,   0,   1, 279,   0,   0],\n",
       "       [  8,   0,   1,  18,   1,   3,   3,   0, 216,   0],\n",
       "       [  1,   4,   0,   1,   0,   2,   0,   0,   3, 290]])"
      ]
     },
     "execution_count": 10,
     "metadata": {},
     "output_type": "execute_result"
    }
   ],
   "source": [
    "confusion_matrix(sample_labels, ensemble_predictions)"
   ]
  },
  {
   "cell_type": "markdown",
   "metadata": {},
   "source": [
    "per model predictions and accuracy"
   ]
  },
  {
   "cell_type": "code",
   "execution_count": 13,
   "metadata": {},
   "outputs": [
    {
     "name": "stdout",
     "output_type": "stream",
     "text": [
      "model 0\n",
      "single_model_accuracy 0.880\n",
      "[[271   2   5   4   0   6  14   0   5   0]\n",
      " [  0 285   4   0   0  10   0   0   1   0]\n",
      " [  1   5 212   5   3   5  59   2   3   1]\n",
      " [  4   0   3 179  17   1  11   6   0   0]\n",
      " [  0   0   0   4 247   0   1  10   0   0]\n",
      " [  2   6   9   0   0 195   4   0   0   0]\n",
      " [  3   0  15   4   1   6 217   2   3   0]\n",
      " [  0   0   6   1   3   0   1 285   0   0]\n",
      " [ 11   0   2  28   2   5   4   0 198   0]\n",
      " [  2   7   0   1   0   3   0   0   2 286]]\n",
      "model 1\n",
      "single_model_accuracy 0.894\n",
      "[[293   2   1   1   0   0   7   0   2   1]\n",
      " [  0 291   3   0   0   1   0   0   4   1]\n",
      " [ 10   6 228   6   2   7  27   3   7   0]\n",
      " [  5   0   0 194  14   0   2   3   3   0]\n",
      " [  0   0   0   3 252   0   3   4   0   0]\n",
      " [  7  11  10   1   0 183   0   0   3   1]\n",
      " [  8   1  22   6   3   6 202   2   1   0]\n",
      " [  0   0   4   5  15   0   1 271   0   0]\n",
      " [ 12   0   2  15   1   1   3   0 216   0]\n",
      " [  5   4   3   0   0   2   0   0   4 283]]\n"
     ]
    }
   ],
   "source": [
    "for m in range(2):\n",
    "    print(\"model\", m)\n",
    "    single_model_predictions = jnp.argmax(logits[m], axis=-1)\n",
    "    single_model_accuracy = util.accuracy(single_model_predictions, sample_labels)\n",
    "    print(\"single_model_accuracy %0.3f\" % single_model_accuracy)\n",
    "    print(confusion_matrix(sample_labels, single_model_predictions))"
   ]
  },
  {
   "cell_type": "code",
   "execution_count": null,
   "metadata": {},
   "outputs": [],
   "source": []
  }
 ],
 "metadata": {
  "kernelspec": {
   "display_name": "Python 3",
   "language": "python",
   "name": "python3"
  },
  "language_info": {
   "codemirror_mode": {
    "name": "ipython",
    "version": 3
   },
   "file_extension": ".py",
   "mimetype": "text/x-python",
   "name": "python",
   "nbconvert_exporter": "python",
   "pygments_lexer": "ipython3",
   "version": "3.6.9"
  }
 },
 "nbformat": 4,
 "nbformat_minor": 2
}
